{
 "cells": [
  {
   "cell_type": "code",
   "execution_count": 1,
   "metadata": {},
   "outputs": [
    {
     "name": "stderr",
     "output_type": "stream",
     "text": [
      "Using TensorFlow backend.\n"
     ]
    }
   ],
   "source": [
    "import pandas as pd\n",
    "import numpy as np\n",
    "import tensorflow as tf\n",
    "\n",
    "from sklearn.model_selection import train_test_split\n",
    "from keras.models import Model, load_model\n",
    "from keras.layers import Input, Dense\n",
    "from keras.callbacks import ModelCheckpoint\n",
    "from keras import regularizers"
   ]
  },
  {
   "cell_type": "code",
   "execution_count": 2,
   "metadata": {
    "collapsed": true
   },
   "outputs": [],
   "source": [
    "import matplotlib.pyplot as plt\n",
    "import seaborn as sns\n",
    "\n",
    "%matplotlib inline\n",
    "sns.set(style='whitegrid', palette='muted', font_scale=1.5)"
   ]
  },
  {
   "cell_type": "code",
   "execution_count": 3,
   "metadata": {
    "collapsed": true
   },
   "outputs": [],
   "source": [
    "# load our sample data \n",
    "df = pd.read_csv('./sample_credit_card_fraud.csv')"
   ]
  },
  {
   "cell_type": "code",
   "execution_count": 4,
   "metadata": {},
   "outputs": [
    {
     "data": {
      "text/html": [
       "<div>\n",
       "<table border=\"1\" class=\"dataframe\">\n",
       "  <thead>\n",
       "    <tr style=\"text-align: right;\">\n",
       "      <th></th>\n",
       "      <th>Time</th>\n",
       "      <th>V1</th>\n",
       "      <th>V2</th>\n",
       "      <th>V3</th>\n",
       "      <th>V4</th>\n",
       "      <th>V5</th>\n",
       "      <th>V6</th>\n",
       "      <th>V7</th>\n",
       "      <th>V8</th>\n",
       "      <th>V9</th>\n",
       "      <th>...</th>\n",
       "      <th>V21</th>\n",
       "      <th>V22</th>\n",
       "      <th>V23</th>\n",
       "      <th>V24</th>\n",
       "      <th>V25</th>\n",
       "      <th>V26</th>\n",
       "      <th>V27</th>\n",
       "      <th>V28</th>\n",
       "      <th>Amount</th>\n",
       "      <th>Class</th>\n",
       "    </tr>\n",
       "  </thead>\n",
       "  <tbody>\n",
       "    <tr>\n",
       "      <th>0</th>\n",
       "      <td>0.0</td>\n",
       "      <td>-1.359807</td>\n",
       "      <td>-0.072781</td>\n",
       "      <td>2.536347</td>\n",
       "      <td>1.378155</td>\n",
       "      <td>-0.338321</td>\n",
       "      <td>0.462388</td>\n",
       "      <td>0.239599</td>\n",
       "      <td>0.098698</td>\n",
       "      <td>0.363787</td>\n",
       "      <td>...</td>\n",
       "      <td>-0.018307</td>\n",
       "      <td>0.277838</td>\n",
       "      <td>-0.110474</td>\n",
       "      <td>0.066928</td>\n",
       "      <td>0.128539</td>\n",
       "      <td>-0.189115</td>\n",
       "      <td>0.133558</td>\n",
       "      <td>-0.021053</td>\n",
       "      <td>149.62</td>\n",
       "      <td>0</td>\n",
       "    </tr>\n",
       "    <tr>\n",
       "      <th>1</th>\n",
       "      <td>0.0</td>\n",
       "      <td>1.191857</td>\n",
       "      <td>0.266151</td>\n",
       "      <td>0.166480</td>\n",
       "      <td>0.448154</td>\n",
       "      <td>0.060018</td>\n",
       "      <td>-0.082361</td>\n",
       "      <td>-0.078803</td>\n",
       "      <td>0.085102</td>\n",
       "      <td>-0.255425</td>\n",
       "      <td>...</td>\n",
       "      <td>-0.225775</td>\n",
       "      <td>-0.638672</td>\n",
       "      <td>0.101288</td>\n",
       "      <td>-0.339846</td>\n",
       "      <td>0.167170</td>\n",
       "      <td>0.125895</td>\n",
       "      <td>-0.008983</td>\n",
       "      <td>0.014724</td>\n",
       "      <td>2.69</td>\n",
       "      <td>0</td>\n",
       "    </tr>\n",
       "    <tr>\n",
       "      <th>2</th>\n",
       "      <td>1.0</td>\n",
       "      <td>-1.358354</td>\n",
       "      <td>-1.340163</td>\n",
       "      <td>1.773209</td>\n",
       "      <td>0.379780</td>\n",
       "      <td>-0.503198</td>\n",
       "      <td>1.800499</td>\n",
       "      <td>0.791461</td>\n",
       "      <td>0.247676</td>\n",
       "      <td>-1.514654</td>\n",
       "      <td>...</td>\n",
       "      <td>0.247998</td>\n",
       "      <td>0.771679</td>\n",
       "      <td>0.909412</td>\n",
       "      <td>-0.689281</td>\n",
       "      <td>-0.327642</td>\n",
       "      <td>-0.139097</td>\n",
       "      <td>-0.055353</td>\n",
       "      <td>-0.059752</td>\n",
       "      <td>378.66</td>\n",
       "      <td>0</td>\n",
       "    </tr>\n",
       "    <tr>\n",
       "      <th>3</th>\n",
       "      <td>1.0</td>\n",
       "      <td>-0.966272</td>\n",
       "      <td>-0.185226</td>\n",
       "      <td>1.792993</td>\n",
       "      <td>-0.863291</td>\n",
       "      <td>-0.010309</td>\n",
       "      <td>1.247203</td>\n",
       "      <td>0.237609</td>\n",
       "      <td>0.377436</td>\n",
       "      <td>-1.387024</td>\n",
       "      <td>...</td>\n",
       "      <td>-0.108300</td>\n",
       "      <td>0.005274</td>\n",
       "      <td>-0.190321</td>\n",
       "      <td>-1.175575</td>\n",
       "      <td>0.647376</td>\n",
       "      <td>-0.221929</td>\n",
       "      <td>0.062723</td>\n",
       "      <td>0.061458</td>\n",
       "      <td>123.50</td>\n",
       "      <td>0</td>\n",
       "    </tr>\n",
       "    <tr>\n",
       "      <th>4</th>\n",
       "      <td>2.0</td>\n",
       "      <td>-1.158233</td>\n",
       "      <td>0.877737</td>\n",
       "      <td>1.548718</td>\n",
       "      <td>0.403034</td>\n",
       "      <td>-0.407193</td>\n",
       "      <td>0.095921</td>\n",
       "      <td>0.592941</td>\n",
       "      <td>-0.270533</td>\n",
       "      <td>0.817739</td>\n",
       "      <td>...</td>\n",
       "      <td>-0.009431</td>\n",
       "      <td>0.798278</td>\n",
       "      <td>-0.137458</td>\n",
       "      <td>0.141267</td>\n",
       "      <td>-0.206010</td>\n",
       "      <td>0.502292</td>\n",
       "      <td>0.219422</td>\n",
       "      <td>0.215153</td>\n",
       "      <td>69.99</td>\n",
       "      <td>0</td>\n",
       "    </tr>\n",
       "  </tbody>\n",
       "</table>\n",
       "<p>5 rows × 31 columns</p>\n",
       "</div>"
      ],
      "text/plain": [
       "   Time        V1        V2        V3        V4        V5        V6        V7  \\\n",
       "0   0.0 -1.359807 -0.072781  2.536347  1.378155 -0.338321  0.462388  0.239599   \n",
       "1   0.0  1.191857  0.266151  0.166480  0.448154  0.060018 -0.082361 -0.078803   \n",
       "2   1.0 -1.358354 -1.340163  1.773209  0.379780 -0.503198  1.800499  0.791461   \n",
       "3   1.0 -0.966272 -0.185226  1.792993 -0.863291 -0.010309  1.247203  0.237609   \n",
       "4   2.0 -1.158233  0.877737  1.548718  0.403034 -0.407193  0.095921  0.592941   \n",
       "\n",
       "         V8        V9  ...         V21       V22       V23       V24  \\\n",
       "0  0.098698  0.363787  ...   -0.018307  0.277838 -0.110474  0.066928   \n",
       "1  0.085102 -0.255425  ...   -0.225775 -0.638672  0.101288 -0.339846   \n",
       "2  0.247676 -1.514654  ...    0.247998  0.771679  0.909412 -0.689281   \n",
       "3  0.377436 -1.387024  ...   -0.108300  0.005274 -0.190321 -1.175575   \n",
       "4 -0.270533  0.817739  ...   -0.009431  0.798278 -0.137458  0.141267   \n",
       "\n",
       "        V25       V26       V27       V28  Amount  Class  \n",
       "0  0.128539 -0.189115  0.133558 -0.021053  149.62      0  \n",
       "1  0.167170  0.125895 -0.008983  0.014724    2.69      0  \n",
       "2 -0.327642 -0.139097 -0.055353 -0.059752  378.66      0  \n",
       "3  0.647376 -0.221929  0.062723  0.061458  123.50      0  \n",
       "4 -0.206010  0.502292  0.219422  0.215153   69.99      0  \n",
       "\n",
       "[5 rows x 31 columns]"
      ]
     },
     "execution_count": 4,
     "metadata": {},
     "output_type": "execute_result"
    }
   ],
   "source": [
    "# inspect the data\n",
    "df.head()"
   ]
  },
  {
   "cell_type": "code",
   "execution_count": 5,
   "metadata": {},
   "outputs": [
    {
     "data": {
      "text/html": [
       "<div>\n",
       "<table border=\"1\" class=\"dataframe\">\n",
       "  <thead>\n",
       "    <tr style=\"text-align: right;\">\n",
       "      <th></th>\n",
       "      <th>Time</th>\n",
       "      <th>V1</th>\n",
       "      <th>V2</th>\n",
       "      <th>V3</th>\n",
       "      <th>V4</th>\n",
       "      <th>V5</th>\n",
       "      <th>V6</th>\n",
       "      <th>V7</th>\n",
       "      <th>V8</th>\n",
       "      <th>V9</th>\n",
       "      <th>...</th>\n",
       "      <th>V21</th>\n",
       "      <th>V22</th>\n",
       "      <th>V23</th>\n",
       "      <th>V24</th>\n",
       "      <th>V25</th>\n",
       "      <th>V26</th>\n",
       "      <th>V27</th>\n",
       "      <th>V28</th>\n",
       "      <th>Amount</th>\n",
       "      <th>Class</th>\n",
       "    </tr>\n",
       "  </thead>\n",
       "  <tbody>\n",
       "    <tr>\n",
       "      <th>284802</th>\n",
       "      <td>172786.0</td>\n",
       "      <td>-11.881118</td>\n",
       "      <td>10.071785</td>\n",
       "      <td>-9.834783</td>\n",
       "      <td>-2.066656</td>\n",
       "      <td>-5.364473</td>\n",
       "      <td>-2.606837</td>\n",
       "      <td>-4.918215</td>\n",
       "      <td>7.305334</td>\n",
       "      <td>1.914428</td>\n",
       "      <td>...</td>\n",
       "      <td>0.213454</td>\n",
       "      <td>0.111864</td>\n",
       "      <td>1.014480</td>\n",
       "      <td>-0.509348</td>\n",
       "      <td>1.436807</td>\n",
       "      <td>0.250034</td>\n",
       "      <td>0.943651</td>\n",
       "      <td>0.823731</td>\n",
       "      <td>0.77</td>\n",
       "      <td>0</td>\n",
       "    </tr>\n",
       "    <tr>\n",
       "      <th>284803</th>\n",
       "      <td>172787.0</td>\n",
       "      <td>-0.732789</td>\n",
       "      <td>-0.055080</td>\n",
       "      <td>2.035030</td>\n",
       "      <td>-0.738589</td>\n",
       "      <td>0.868229</td>\n",
       "      <td>1.058415</td>\n",
       "      <td>0.024330</td>\n",
       "      <td>0.294869</td>\n",
       "      <td>0.584800</td>\n",
       "      <td>...</td>\n",
       "      <td>0.214205</td>\n",
       "      <td>0.924384</td>\n",
       "      <td>0.012463</td>\n",
       "      <td>-1.016226</td>\n",
       "      <td>-0.606624</td>\n",
       "      <td>-0.395255</td>\n",
       "      <td>0.068472</td>\n",
       "      <td>-0.053527</td>\n",
       "      <td>24.79</td>\n",
       "      <td>0</td>\n",
       "    </tr>\n",
       "    <tr>\n",
       "      <th>284804</th>\n",
       "      <td>172788.0</td>\n",
       "      <td>1.919565</td>\n",
       "      <td>-0.301254</td>\n",
       "      <td>-3.249640</td>\n",
       "      <td>-0.557828</td>\n",
       "      <td>2.630515</td>\n",
       "      <td>3.031260</td>\n",
       "      <td>-0.296827</td>\n",
       "      <td>0.708417</td>\n",
       "      <td>0.432454</td>\n",
       "      <td>...</td>\n",
       "      <td>0.232045</td>\n",
       "      <td>0.578229</td>\n",
       "      <td>-0.037501</td>\n",
       "      <td>0.640134</td>\n",
       "      <td>0.265745</td>\n",
       "      <td>-0.087371</td>\n",
       "      <td>0.004455</td>\n",
       "      <td>-0.026561</td>\n",
       "      <td>67.88</td>\n",
       "      <td>0</td>\n",
       "    </tr>\n",
       "    <tr>\n",
       "      <th>284805</th>\n",
       "      <td>172788.0</td>\n",
       "      <td>-0.240440</td>\n",
       "      <td>0.530483</td>\n",
       "      <td>0.702510</td>\n",
       "      <td>0.689799</td>\n",
       "      <td>-0.377961</td>\n",
       "      <td>0.623708</td>\n",
       "      <td>-0.686180</td>\n",
       "      <td>0.679145</td>\n",
       "      <td>0.392087</td>\n",
       "      <td>...</td>\n",
       "      <td>0.265245</td>\n",
       "      <td>0.800049</td>\n",
       "      <td>-0.163298</td>\n",
       "      <td>0.123205</td>\n",
       "      <td>-0.569159</td>\n",
       "      <td>0.546668</td>\n",
       "      <td>0.108821</td>\n",
       "      <td>0.104533</td>\n",
       "      <td>10.00</td>\n",
       "      <td>0</td>\n",
       "    </tr>\n",
       "    <tr>\n",
       "      <th>284806</th>\n",
       "      <td>172792.0</td>\n",
       "      <td>-0.533413</td>\n",
       "      <td>-0.189733</td>\n",
       "      <td>0.703337</td>\n",
       "      <td>-0.506271</td>\n",
       "      <td>-0.012546</td>\n",
       "      <td>-0.649617</td>\n",
       "      <td>1.577006</td>\n",
       "      <td>-0.414650</td>\n",
       "      <td>0.486180</td>\n",
       "      <td>...</td>\n",
       "      <td>0.261057</td>\n",
       "      <td>0.643078</td>\n",
       "      <td>0.376777</td>\n",
       "      <td>0.008797</td>\n",
       "      <td>-0.473649</td>\n",
       "      <td>-0.818267</td>\n",
       "      <td>-0.002415</td>\n",
       "      <td>0.013649</td>\n",
       "      <td>217.00</td>\n",
       "      <td>0</td>\n",
       "    </tr>\n",
       "  </tbody>\n",
       "</table>\n",
       "<p>5 rows × 31 columns</p>\n",
       "</div>"
      ],
      "text/plain": [
       "            Time         V1         V2        V3        V4        V5  \\\n",
       "284802  172786.0 -11.881118  10.071785 -9.834783 -2.066656 -5.364473   \n",
       "284803  172787.0  -0.732789  -0.055080  2.035030 -0.738589  0.868229   \n",
       "284804  172788.0   1.919565  -0.301254 -3.249640 -0.557828  2.630515   \n",
       "284805  172788.0  -0.240440   0.530483  0.702510  0.689799 -0.377961   \n",
       "284806  172792.0  -0.533413  -0.189733  0.703337 -0.506271 -0.012546   \n",
       "\n",
       "              V6        V7        V8        V9  ...         V21       V22  \\\n",
       "284802 -2.606837 -4.918215  7.305334  1.914428  ...    0.213454  0.111864   \n",
       "284803  1.058415  0.024330  0.294869  0.584800  ...    0.214205  0.924384   \n",
       "284804  3.031260 -0.296827  0.708417  0.432454  ...    0.232045  0.578229   \n",
       "284805  0.623708 -0.686180  0.679145  0.392087  ...    0.265245  0.800049   \n",
       "284806 -0.649617  1.577006 -0.414650  0.486180  ...    0.261057  0.643078   \n",
       "\n",
       "             V23       V24       V25       V26       V27       V28  Amount  \\\n",
       "284802  1.014480 -0.509348  1.436807  0.250034  0.943651  0.823731    0.77   \n",
       "284803  0.012463 -1.016226 -0.606624 -0.395255  0.068472 -0.053527   24.79   \n",
       "284804 -0.037501  0.640134  0.265745 -0.087371  0.004455 -0.026561   67.88   \n",
       "284805 -0.163298  0.123205 -0.569159  0.546668  0.108821  0.104533   10.00   \n",
       "284806  0.376777  0.008797 -0.473649 -0.818267 -0.002415  0.013649  217.00   \n",
       "\n",
       "        Class  \n",
       "284802      0  \n",
       "284803      0  \n",
       "284804      0  \n",
       "284805      0  \n",
       "284806      0  \n",
       "\n",
       "[5 rows x 31 columns]"
      ]
     },
     "execution_count": 5,
     "metadata": {},
     "output_type": "execute_result"
    }
   ],
   "source": [
    "df.tail()"
   ]
  },
  {
   "cell_type": "code",
   "execution_count": 6,
   "metadata": {},
   "outputs": [
    {
     "data": {
      "text/plain": [
       "Index(['Time', 'V1', 'V2', 'V3', 'V4', 'V5', 'V6', 'V7', 'V8', 'V9', 'V10',\n",
       "       'V11', 'V12', 'V13', 'V14', 'V15', 'V16', 'V17', 'V18', 'V19', 'V20',\n",
       "       'V21', 'V22', 'V23', 'V24', 'V25', 'V26', 'V27', 'V28', 'Amount',\n",
       "       'Class'],\n",
       "      dtype='object')"
      ]
     },
     "execution_count": 6,
     "metadata": {},
     "output_type": "execute_result"
    }
   ],
   "source": [
    "# check our columns (we see that a bunch of them are unknown to us but that's ok since our model can use these use them\n",
    "# perform its classification and help us identify items that don't match the trends that it finds)\n",
    "df.columns"
   ]
  },
  {
   "cell_type": "code",
   "execution_count": 7,
   "metadata": {},
   "outputs": [
    {
     "data": {
      "text/plain": [
       "False"
      ]
     },
     "execution_count": 7,
     "metadata": {},
     "output_type": "execute_result"
    }
   ],
   "source": [
    "# check to see if our set has any null values (we have none so we're all good)\n",
    "df.isnull().values.any()"
   ]
  },
  {
   "cell_type": "code",
   "execution_count": 8,
   "metadata": {},
   "outputs": [
    {
     "data": {
      "text/plain": [
       "(284807, 31)"
      ]
     },
     "execution_count": 8,
     "metadata": {},
     "output_type": "execute_result"
    }
   ],
   "source": [
    "# inspect the shape of our data\n",
    "df.shape"
   ]
  },
  {
   "cell_type": "code",
   "execution_count": 9,
   "metadata": {},
   "outputs": [
    {
     "data": {
      "text/plain": [
       "array([0, 1])"
      ]
     },
     "execution_count": 9,
     "metadata": {},
     "output_type": "execute_result"
    }
   ],
   "source": [
    "# inspect the classes that we have in our data (confirm that we only have two classes)\n",
    "df['Class'].unique()"
   ]
  },
  {
   "cell_type": "code",
   "execution_count": 10,
   "metadata": {
    "collapsed": true
   },
   "outputs": [],
   "source": [
    "# separate our data set by classes since we want to only feed the normal transactions to our autoencoder\n",
    "fraud_transactions = df[df.Class == 1]\n",
    "normal_transactions = df[df.Class == 0]"
   ]
  },
  {
   "cell_type": "code",
   "execution_count": 11,
   "metadata": {},
   "outputs": [
    {
     "data": {
      "text/plain": [
       "0.0017304750013189597"
      ]
     },
     "execution_count": 11,
     "metadata": {},
     "output_type": "execute_result"
    }
   ],
   "source": [
    "# calculate the ratio of fraudentl transactions to normal ones\n",
    "fraud_transactions.shape[0] / normal_transactions.shape[0]"
   ]
  },
  {
   "cell_type": "code",
   "execution_count": 12,
   "metadata": {
    "collapsed": true
   },
   "outputs": [],
   "source": [
    "# scale our data for the training set\n",
    "from sklearn.preprocessing import StandardScaler\n",
    "\n",
    "df['Amount'] = StandardScaler().fit_transform(df['Amount'].values.reshape(-1, 1))"
   ]
  },
  {
   "cell_type": "code",
   "execution_count": 13,
   "metadata": {},
   "outputs": [
    {
     "data": {
      "text/plain": [
       "0    0.244964\n",
       "1   -0.342475\n",
       "2    1.160686\n",
       "3    0.140534\n",
       "4   -0.073403\n",
       "Name: Amount, dtype: float64"
      ]
     },
     "execution_count": 13,
     "metadata": {},
     "output_type": "execute_result"
    }
   ],
   "source": [
    "# checkout our scaled amounts\n",
    "df['Amount'].head()"
   ]
  },
  {
   "cell_type": "code",
   "execution_count": 14,
   "metadata": {},
   "outputs": [
    {
     "data": {
      "image/png": "[encoded data removed]",
      "text/plain": [
       "<matplotlib.figure.Figure at 0x119339048>"
      ]
     },
     "metadata": {},
     "output_type": "display_data"
    }
   ],
   "source": [
    "# plot the two features that we do know against each other to see if there is some kind of relationship\n",
    "# looking at the data it doens't appear to so we can prob just drop the time values\n",
    "figure, (ax1, ax2) = plt.subplots(2, 1, sharex=True)\n",
    "figure.suptitle('Time / Amount Plot')\n",
    "\n",
    "ax1.scatter(fraud_transactions['Time'], fraud_transactions['Amount'])\n",
    "ax1.set_title('Fraud Transactions')\n",
    "\n",
    "ax2.scatter(normal_transactions['Time'], normal_transactions['Amount'])\n",
    "ax2.set_title('Normal Transactions')\n",
    "\n",
    "plt.xlabel('Time (seconds)')\n",
    "plt.ylabel('Amount')"
   ]
  },
  {
   "cell_type": "code",
   "execution_count": 15,
   "metadata": {
    "collapsed": true
   },
   "outputs": [],
   "source": [
    "# remove time since it doesn't seem to have much impact\n",
    "df = df.drop(['Time'], axis=1)"
   ]
  },
  {
   "cell_type": "code",
   "execution_count": 16,
   "metadata": {
    "collapsed": true
   },
   "outputs": [],
   "source": [
    "# train the model only on the normal transactions so that it is easy to identify fraudulent items\n",
    "X_train, X_test = train_test_split(df, test_size=0.2, random_state=25)\n",
    "X_train = X_train[X_train['Class'] == 0]\n",
    "X_train = X_train.drop(['Class'], axis=1)\n",
    "\n",
    "y_test = X_test['Class']\n",
    "X_test = X_test.drop(['Class'], axis=1)\n",
    "\n",
    "X_train = X_train.values\n",
    "X_test = X_test.values"
   ]
  },
  {
   "cell_type": "code",
   "execution_count": 17,
   "metadata": {
    "collapsed": true
   },
   "outputs": [],
   "source": [
    "# create an autoencoder that uses 4 fully connected layers\n",
    "input_dim = X_train.shape[1]\n",
    "encoding_dim = 14\n",
    "\n",
    "# create our input layer\n",
    "input_layer = Input(shape=(input_dim,))\n",
    "\n",
    "\n",
    "# add our encoders\n",
    "encoder = Dense(encoding_dim, \n",
    "                activation=\"tanh\", \n",
    "                activity_regularizer=regularizers.l1(10e-5))(input_layer)\n",
    "encoder = Dense(int(encoding_dim / 2), \n",
    "                activation=\"relu\")(encoder)\n",
    "\n",
    "# add our decoders\n",
    "decoder = Dense(int(encoding_dim / 2), \n",
    "                activation='tanh')(encoder)\n",
    "decoder = Dense(input_dim, \n",
    "                activation='relu')(decoder)\n",
    "\n",
    "#create our autoeoncoder\n",
    "model = Model(inputs=input_layer, outputs=decoder)"
   ]
  },
  {
   "cell_type": "code",
   "execution_count": 18,
   "metadata": {},
   "outputs": [
    {
     "name": "stdout",
     "output_type": "stream",
     "text": [
      "Train on 227465 samples, validate on 56962 samples\n",
      "Epoch 1/100\n",
      "227465/227465 [==============================] - 19s - loss: 0.8084 - acc: 0.5909 - val_loss: 0.8039 - val_acc: 0.6550\n",
      "Epoch 2/100\n",
      "227465/227465 [==============================] - 19s - loss: 0.7428 - acc: 0.6611 - val_loss: 0.7861 - val_acc: 0.6648\n",
      "Epoch 3/100\n",
      "227465/227465 [==============================] - 19s - loss: 0.7320 - acc: 0.6650 - val_loss: 0.7784 - val_acc: 0.6685\n",
      "Epoch 4/100\n",
      "227465/227465 [==============================] - 19s - loss: 0.7268 - acc: 0.6663 - val_loss: 0.7743 - val_acc: 0.6670\n",
      "Epoch 5/100\n",
      "227465/227465 [==============================] - 19s - loss: 0.7226 - acc: 0.6707 - val_loss: 0.7724 - val_acc: 0.6818\n",
      "Epoch 6/100\n",
      "227465/227465 [==============================] - 19s - loss: 0.7207 - acc: 0.6739 - val_loss: 0.7811 - val_acc: 0.6564\n",
      "Epoch 7/100\n",
      "227465/227465 [==============================] - 19s - loss: 0.7196 - acc: 0.6749 - val_loss: 0.7684 - val_acc: 0.6838\n",
      "Epoch 8/100\n",
      "227465/227465 [==============================] - 19s - loss: 0.7180 - acc: 0.6758 - val_loss: 0.7674 - val_acc: 0.6859\n",
      "Epoch 9/100\n",
      "227465/227465 [==============================] - 19s - loss: 0.7172 - acc: 0.6772 - val_loss: 0.7677 - val_acc: 0.6845\n",
      "Epoch 10/100\n",
      "227465/227465 [==============================] - 19s - loss: 0.7162 - acc: 0.6795 - val_loss: 0.7777 - val_acc: 0.6842\n",
      "Epoch 11/100\n",
      "227465/227465 [==============================] - 20s - loss: 0.7154 - acc: 0.6806 - val_loss: 0.7656 - val_acc: 0.6844\n",
      "Epoch 12/100\n",
      "227465/227465 [==============================] - 20s - loss: 0.7149 - acc: 0.6827 - val_loss: 0.7667 - val_acc: 0.6845\n",
      "Epoch 13/100\n",
      "227465/227465 [==============================] - 19s - loss: 0.7144 - acc: 0.6822 - val_loss: 0.7625 - val_acc: 0.6834\n",
      "Epoch 14/100\n",
      "227465/227465 [==============================] - 21s - loss: 0.7138 - acc: 0.6840 - val_loss: 0.7650 - val_acc: 0.6838\n",
      "Epoch 15/100\n",
      "227465/227465 [==============================] - 20s - loss: 0.7135 - acc: 0.6854 - val_loss: 0.7610 - val_acc: 0.6945\n",
      "Epoch 16/100\n",
      "227465/227465 [==============================] - 18s - loss: 0.7136 - acc: 0.6868 - val_loss: 0.7647 - val_acc: 0.6831\n",
      "Epoch 17/100\n",
      "227465/227465 [==============================] - 18s - loss: 0.7131 - acc: 0.6878 - val_loss: 0.7623 - val_acc: 0.6963\n",
      "Epoch 18/100\n",
      "227465/227465 [==============================] - 19s - loss: 0.7125 - acc: 0.6907 - val_loss: 0.7600 - val_acc: 0.6977\n",
      "Epoch 19/100\n",
      "227465/227465 [==============================] - 20s - loss: 0.7125 - acc: 0.6918 - val_loss: 0.7631 - val_acc: 0.6834\n",
      "Epoch 20/100\n",
      "227465/227465 [==============================] - 19s - loss: 0.7121 - acc: 0.6935 - val_loss: 0.7603 - val_acc: 0.6984\n",
      "Epoch 21/100\n",
      "227465/227465 [==============================] - 20s - loss: 0.7124 - acc: 0.6953 - val_loss: 0.7600 - val_acc: 0.7054\n",
      "Epoch 22/100\n",
      "227465/227465 [==============================] - 18s - loss: 0.7112 - acc: 0.6963 - val_loss: 0.7600 - val_acc: 0.7014\n",
      "Epoch 23/100\n",
      "227465/227465 [==============================] - 18s - loss: 0.7113 - acc: 0.6971 - val_loss: 0.7639 - val_acc: 0.6913\n",
      "Epoch 24/100\n",
      "227465/227465 [==============================] - 18s - loss: 0.7108 - acc: 0.6971 - val_loss: 0.7749 - val_acc: 0.6903\n",
      "Epoch 25/100\n",
      "227465/227465 [==============================] - 20s - loss: 0.7108 - acc: 0.6968 - val_loss: 0.7620 - val_acc: 0.7040\n",
      "Epoch 26/100\n",
      "227465/227465 [==============================] - 19s - loss: 0.7106 - acc: 0.6979 - val_loss: 0.7581 - val_acc: 0.7026\n",
      "Epoch 27/100\n",
      "227465/227465 [==============================] - 20s - loss: 0.7105 - acc: 0.6976 - val_loss: 0.7613 - val_acc: 0.7022\n",
      "Epoch 28/100\n",
      "227465/227465 [==============================] - 18s - loss: 0.7101 - acc: 0.6982 - val_loss: 0.7597 - val_acc: 0.6995\n",
      "Epoch 29/100\n",
      "227465/227465 [==============================] - 19s - loss: 0.7103 - acc: 0.6971 - val_loss: 0.7592 - val_acc: 0.7015\n",
      "Epoch 30/100\n",
      "227465/227465 [==============================] - 19s - loss: 0.7101 - acc: 0.6983 - val_loss: 0.7621 - val_acc: 0.7030\n",
      "Epoch 31/100\n",
      "227465/227465 [==============================] - 18s - loss: 0.7100 - acc: 0.6979 - val_loss: 0.7607 - val_acc: 0.6977\n",
      "Epoch 32/100\n",
      "227465/227465 [==============================] - 18s - loss: 0.7098 - acc: 0.6980 - val_loss: 0.7578 - val_acc: 0.6920\n",
      "Epoch 33/100\n",
      "227465/227465 [==============================] - 19s - loss: 0.7091 - acc: 0.6978 - val_loss: 0.7586 - val_acc: 0.6994\n",
      "Epoch 34/100\n",
      "227465/227465 [==============================] - 20s - loss: 0.7090 - acc: 0.6985 - val_loss: 0.7564 - val_acc: 0.7027\n",
      "Epoch 35/100\n",
      "227465/227465 [==============================] - 19s - loss: 0.7088 - acc: 0.6986 - val_loss: 0.7572 - val_acc: 0.7100\n",
      "Epoch 36/100\n",
      "227465/227465 [==============================] - 19s - loss: 0.7086 - acc: 0.7000 - val_loss: 0.7557 - val_acc: 0.7067\n",
      "Epoch 37/100\n",
      "227465/227465 [==============================] - 20s - loss: 0.7084 - acc: 0.6991 - val_loss: 0.7573 - val_acc: 0.6996\n",
      "Epoch 38/100\n",
      "227465/227465 [==============================] - 20s - loss: 0.7085 - acc: 0.6998 - val_loss: 0.7562 - val_acc: 0.6997\n",
      "Epoch 39/100\n",
      "227465/227465 [==============================] - 20s - loss: 0.7082 - acc: 0.7009 - val_loss: 0.7582 - val_acc: 0.6949\n",
      "Epoch 40/100\n",
      "227465/227465 [==============================] - 20s - loss: 0.7079 - acc: 0.7009 - val_loss: 0.7554 - val_acc: 0.7053\n",
      "Epoch 41/100\n",
      "227465/227465 [==============================] - 20s - loss: 0.7074 - acc: 0.7013 - val_loss: 0.7561 - val_acc: 0.7049\n",
      "Epoch 42/100\n",
      "227465/227465 [==============================] - 20s - loss: 0.7078 - acc: 0.7016 - val_loss: 0.7563 - val_acc: 0.7004\n",
      "Epoch 43/100\n",
      "227465/227465 [==============================] - 20s - loss: 0.7076 - acc: 0.7012 - val_loss: 0.7594 - val_acc: 0.6972\n",
      "Epoch 44/100\n",
      "227465/227465 [==============================] - 20s - loss: 0.7077 - acc: 0.7008 - val_loss: 0.7573 - val_acc: 0.7035\n",
      "Epoch 45/100\n",
      "227465/227465 [==============================] - 20s - loss: 0.7078 - acc: 0.7017 - val_loss: 0.7557 - val_acc: 0.7003\n",
      "Epoch 46/100\n",
      "227465/227465 [==============================] - 20s - loss: 0.7070 - acc: 0.7016 - val_loss: 0.7568 - val_acc: 0.7030\n",
      "Epoch 47/100\n",
      "227465/227465 [==============================] - 20s - loss: 0.7073 - acc: 0.7018 - val_loss: 0.7550 - val_acc: 0.6984\n",
      "Epoch 48/100\n",
      "227465/227465 [==============================] - 20s - loss: 0.7070 - acc: 0.7017 - val_loss: 0.7563 - val_acc: 0.7163\n",
      "Epoch 49/100\n",
      "227465/227465 [==============================] - 19s - loss: 0.7070 - acc: 0.7028 - val_loss: 0.7580 - val_acc: 0.7074\n",
      "Epoch 50/100\n",
      "227465/227465 [==============================] - 19s - loss: 0.7069 - acc: 0.7019 - val_loss: 0.7593 - val_acc: 0.7041\n",
      "Epoch 51/100\n",
      "227465/227465 [==============================] - 20s - loss: 0.7070 - acc: 0.7020 - val_loss: 0.7551 - val_acc: 0.7112\n",
      "Epoch 52/100\n",
      "227465/227465 [==============================] - 19s - loss: 0.7068 - acc: 0.7026 - val_loss: 0.7553 - val_acc: 0.7062\n",
      "Epoch 53/100\n",
      "227465/227465 [==============================] - 20s - loss: 0.7069 - acc: 0.7028 - val_loss: 0.7560 - val_acc: 0.7049\n",
      "Epoch 54/100\n",
      "227465/227465 [==============================] - 25s - loss: 0.7068 - acc: 0.7013 - val_loss: 0.7570 - val_acc: 0.7054\n",
      "Epoch 55/100\n",
      "227465/227465 [==============================] - 21s - loss: 0.7067 - acc: 0.7032 - val_loss: 0.7544 - val_acc: 0.7037\n",
      "Epoch 56/100\n",
      "227465/227465 [==============================] - 21s - loss: 0.7067 - acc: 0.7018 - val_loss: 0.7582 - val_acc: 0.7118\n",
      "Epoch 57/100\n",
      "227465/227465 [==============================] - 21s - loss: 0.7067 - acc: 0.7024 - val_loss: 0.7556 - val_acc: 0.7032\n",
      "Epoch 58/100\n",
      "227465/227465 [==============================] - 20s - loss: 0.7067 - acc: 0.7017 - val_loss: 0.7557 - val_acc: 0.7049\n",
      "Epoch 59/100\n",
      "227465/227465 [==============================] - 23s - loss: 0.7067 - acc: 0.7017 - val_loss: 0.7565 - val_acc: 0.7035\n",
      "Epoch 60/100\n",
      "227465/227465 [==============================] - 20s - loss: 0.7065 - acc: 0.7029 - val_loss: 0.7699 - val_acc: 0.7039\n",
      "Epoch 61/100\n",
      "227465/227465 [==============================] - 20s - loss: 0.7063 - acc: 0.7029 - val_loss: 0.7573 - val_acc: 0.6906\n",
      "Epoch 62/100\n"
     ]
    },
    {
     "name": "stdout",
     "output_type": "stream",
     "text": [
      "227465/227465 [==============================] - 19s - loss: 0.7063 - acc: 0.7028 - val_loss: 0.7587 - val_acc: 0.6967\n",
      "Epoch 63/100\n",
      "227465/227465 [==============================] - 20s - loss: 0.7065 - acc: 0.7024 - val_loss: 0.7548 - val_acc: 0.7065\n",
      "Epoch 64/100\n",
      "227465/227465 [==============================] - 19s - loss: 0.7062 - acc: 0.7027 - val_loss: 0.7589 - val_acc: 0.7032\n",
      "Epoch 65/100\n",
      "227465/227465 [==============================] - 19s - loss: 0.7067 - acc: 0.7028 - val_loss: 0.7579 - val_acc: 0.7050\n",
      "Epoch 66/100\n",
      "227465/227465 [==============================] - 19s - loss: 0.7061 - acc: 0.7017 - val_loss: 0.7557 - val_acc: 0.7111\n",
      "Epoch 67/100\n",
      "227465/227465 [==============================] - 19s - loss: 0.7063 - acc: 0.7027 - val_loss: 0.7562 - val_acc: 0.7048\n",
      "Epoch 68/100\n",
      "227465/227465 [==============================] - 19s - loss: 0.7067 - acc: 0.7029 - val_loss: 0.7552 - val_acc: 0.7098\n",
      "Epoch 69/100\n",
      "227465/227465 [==============================] - 21s - loss: 0.7061 - acc: 0.7024 - val_loss: 0.7560 - val_acc: 0.7019\n",
      "Epoch 70/100\n",
      "227465/227465 [==============================] - 20s - loss: 0.7062 - acc: 0.7045 - val_loss: 0.7567 - val_acc: 0.7079\n",
      "Epoch 71/100\n",
      "227465/227465 [==============================] - 20s - loss: 0.7062 - acc: 0.7021 - val_loss: 0.7579 - val_acc: 0.6925\n",
      "Epoch 72/100\n",
      "227465/227465 [==============================] - 20s - loss: 0.7065 - acc: 0.7020 - val_loss: 0.7551 - val_acc: 0.7027\n",
      "Epoch 73/100\n",
      "227465/227465 [==============================] - 19s - loss: 0.7062 - acc: 0.7019 - val_loss: 0.7564 - val_acc: 0.7071\n",
      "Epoch 74/100\n",
      "227465/227465 [==============================] - 20s - loss: 0.7061 - acc: 0.7023 - val_loss: 0.7577 - val_acc: 0.7092\n",
      "Epoch 75/100\n",
      "227465/227465 [==============================] - 20s - loss: 0.7060 - acc: 0.7032 - val_loss: 0.7548 - val_acc: 0.7124\n",
      "Epoch 76/100\n",
      "227465/227465 [==============================] - 20s - loss: 0.7062 - acc: 0.7018 - val_loss: 0.7596 - val_acc: 0.7056\n",
      "Epoch 77/100\n",
      "227465/227465 [==============================] - 20s - loss: 0.7058 - acc: 0.7032 - val_loss: 0.7545 - val_acc: 0.7066\n",
      "Epoch 78/100\n",
      "227465/227465 [==============================] - 20s - loss: 0.7059 - acc: 0.7025 - val_loss: 0.7576 - val_acc: 0.7028\n",
      "Epoch 79/100\n",
      "227465/227465 [==============================] - 20s - loss: 0.7061 - acc: 0.7022 - val_loss: 0.7591 - val_acc: 0.6988\n",
      "Epoch 80/100\n",
      "227465/227465 [==============================] - 19s - loss: 0.7063 - acc: 0.7021 - val_loss: 0.7555 - val_acc: 0.7086\n",
      "Epoch 81/100\n",
      "227465/227465 [==============================] - 19s - loss: 0.7063 - acc: 0.7034 - val_loss: 0.7601 - val_acc: 0.7066\n",
      "Epoch 82/100\n",
      "227465/227465 [==============================] - 20s - loss: 0.7061 - acc: 0.7025 - val_loss: 0.7582 - val_acc: 0.7021\n",
      "Epoch 83/100\n",
      "227465/227465 [==============================] - 19s - loss: 0.7061 - acc: 0.7022 - val_loss: 0.7581 - val_acc: 0.6916\n",
      "Epoch 84/100\n",
      "227465/227465 [==============================] - 20s - loss: 0.7061 - acc: 0.7026 - val_loss: 0.7564 - val_acc: 0.6982\n",
      "Epoch 85/100\n",
      "227465/227465 [==============================] - 20s - loss: 0.7060 - acc: 0.7030 - val_loss: 0.7557 - val_acc: 0.7033\n",
      "Epoch 86/100\n",
      "227465/227465 [==============================] - 20s - loss: 0.7056 - acc: 0.7032 - val_loss: 0.7536 - val_acc: 0.7076\n",
      "Epoch 87/100\n",
      "227465/227465 [==============================] - 20s - loss: 0.7058 - acc: 0.7027 - val_loss: 0.7541 - val_acc: 0.7096\n",
      "Epoch 88/100\n",
      "227465/227465 [==============================] - 20s - loss: 0.7058 - acc: 0.7023 - val_loss: 0.7553 - val_acc: 0.6974\n",
      "Epoch 89/100\n",
      "227465/227465 [==============================] - 20s - loss: 0.7062 - acc: 0.7017 - val_loss: 0.7537 - val_acc: 0.7125\n",
      "Epoch 90/100\n",
      "227465/227465 [==============================] - 20s - loss: 0.7065 - acc: 0.7025 - val_loss: 0.7581 - val_acc: 0.7097\n",
      "Epoch 91/100\n",
      "227465/227465 [==============================] - 20s - loss: 0.7061 - acc: 0.7030 - val_loss: 0.7629 - val_acc: 0.6936\n",
      "Epoch 92/100\n",
      "227465/227465 [==============================] - 21s - loss: 0.7059 - acc: 0.7022 - val_loss: 0.7557 - val_acc: 0.7076\n",
      "Epoch 93/100\n",
      "227465/227465 [==============================] - 20s - loss: 0.7061 - acc: 0.7025 - val_loss: 0.7543 - val_acc: 0.7068\n",
      "Epoch 94/100\n",
      "227465/227465 [==============================] - 19s - loss: 0.7055 - acc: 0.7031 - val_loss: 0.7544 - val_acc: 0.7055\n",
      "Epoch 95/100\n",
      "227465/227465 [==============================] - 21s - loss: 0.7057 - acc: 0.7015 - val_loss: 0.7566 - val_acc: 0.7042\n",
      "Epoch 96/100\n",
      "227465/227465 [==============================] - 20s - loss: 0.7058 - acc: 0.7017 - val_loss: 0.7554 - val_acc: 0.7046\n",
      "Epoch 97/100\n",
      "227465/227465 [==============================] - 20s - loss: 0.7054 - acc: 0.7022 - val_loss: 0.7550 - val_acc: 0.7150\n",
      "Epoch 98/100\n",
      "227465/227465 [==============================] - 20s - loss: 0.7059 - acc: 0.7024 - val_loss: 0.7567 - val_acc: 0.7035\n",
      "Epoch 99/100\n",
      "227465/227465 [==============================] - 21s - loss: 0.7055 - acc: 0.7026 - val_loss: 0.7584 - val_acc: 0.6974\n",
      "Epoch 100/100\n",
      "227465/227465 [==============================] - 20s - loss: 0.7055 - acc: 0.7032 - val_loss: 0.7555 - val_acc: 0.7019\n"
     ]
    },
    {
     "data": {
      "text/plain": [
       "<keras.callbacks.History at 0x11acc47f0>"
      ]
     },
     "execution_count": 18,
     "metadata": {},
     "output_type": "execute_result"
    }
   ],
   "source": [
    "# compile the autoencoder using Adam for stotastic optimization and\n",
    "# minimizing the mean squared error as our loss function\n",
    "model.compile(optimizer='adam', \n",
    "                    loss='mean_squared_error', \n",
    "                    metrics=['accuracy'])\n",
    "\n",
    "# save our model after each epoch\n",
    "checkpoint = ModelCheckpoint(filepath=\"credit_card_fraud_model.h5\",\n",
    "                               verbose=0,\n",
    "                               save_best_only=True)\n",
    "\n",
    "# train the model\n",
    "model.fit(X_train, X_train,\n",
    "                epochs=100,\n",
    "                batch_size=30,\n",
    "                shuffle=True,\n",
    "                validation_data=(X_test, X_test),\n",
    "                verbose=1,\n",
    "                callbacks=[checkpoint])"
   ]
  },
  {
   "cell_type": "code",
   "execution_count": 19,
   "metadata": {
    "collapsed": true
   },
   "outputs": [],
   "source": [
    "model = load_model('credit_card_fraud_model.h5')"
   ]
  },
  {
   "cell_type": "code",
   "execution_count": 25,
   "metadata": {
    "collapsed": true
   },
   "outputs": [],
   "source": [
    "# set our threshold, anything over this amount will be marked as fraud\n",
    "from sklearn.metrics import auc, confusion_matrix, precision_recall_curve, roc_curve\n",
    "threshold = 4"
   ]
  },
  {
   "cell_type": "code",
   "execution_count": 26,
   "metadata": {
    "collapsed": true
   },
   "outputs": [],
   "source": [
    "# make a model predictions from our test data\n",
    "predictions = model.predict(X_test)"
   ]
  },
  {
   "cell_type": "code",
   "execution_count": 27,
   "metadata": {
    "collapsed": true
   },
   "outputs": [],
   "source": [
    "# calculate the mean squared error and store it as a frame\n",
    "mse = np.mean(np.power(X_test - predictions, 2), axis=1)\n",
    "errors = pd.DataFrame({'reconstruction': mse, 'trues': y_test})"
   ]
  },
  {
   "cell_type": "code",
   "execution_count": 32,
   "metadata": {},
   "outputs": [
    {
     "data": {
      "text/plain": [
       "<matplotlib.text.Text at 0x11c205e48>"
      ]
     },
     "execution_count": 32,
     "metadata": {},
     "output_type": "execute_result"
    },
    {
     "data": {
      "image/png": "[encoded data removed]",
      "text/plain": [
       "<matplotlib.figure.Figure at 0x11bbefef0>"
      ]
     },
     "metadata": {},
     "output_type": "display_data"
    }
   ],
   "source": [
    "# take a look at our ROC curve, which appears to have the general shape we are looking for\n",
    "# but a confusion matrix may provide more insight\n",
    "false_positive_rate, true_positive_rate, thresholds = roc_curve(errors['trues'], errors['reconstruction'])\n",
    "area_under_curve = auc(false_positive_rate, true_positive_rate)\n",
    "\n",
    "plt.title('ROC Curve')\n",
    "plt.plot(false_positive_rate, true_positive_rate, label='AUC: {}'.format(area_under_curve))\n",
    "plt.legend(loc='lower right')\n",
    "plt.plot([0,1],[0,1],'r--')\n",
    "plt.xlim([-0.001, 1])\n",
    "plt.ylim([0, 1.001])\n",
    "plt.ylabel('True Positive Rate')\n",
    "plt.xlabel('False Positive Rate')"
   ]
  },
  {
   "cell_type": "code",
   "execution_count": 34,
   "metadata": {},
   "outputs": [
    {
     "data": {
      "text/plain": [
       "<matplotlib.text.Text at 0x11b826240>"
      ]
     },
     "execution_count": 34,
     "metadata": {},
     "output_type": "execute_result"
    },
    {
     "data": {
      "image/png": "[encoded data removed]",
      "text/plain": [
       "<matplotlib.figure.Figure at 0x11bdeaef0>"
      ]
     },
     "metadata": {},
     "output_type": "display_data"
    }
   ],
   "source": [
    "# build a confusion matrix of our results\n",
    "y_hat = [1 if error > threshold else 0 for error in errors['reconstruction'].values]\n",
    "conf_matrix = confusion_matrix(errors['trues'], y_hat)\n",
    "\n",
    "plt.figure(figsize=(12, 12))\n",
    "sns.heatmap(conf_matrix, \n",
    "            xticklabels=[\"Normal\", \"Fraud\"], \n",
    "            yticklabels=[\"Normal\", \"Fraud\"], \n",
    "            annot=True, fmt=\"d\");\n",
    "plt.title(\"Fraud vs. Normal Transactions\")\n",
    "plt.ylabel('True')\n",
    "plt.xlabel('Predicted')"
   ]
  },
  {
   "cell_type": "markdown",
   "metadata": {},
   "source": [
    "## Observations\n",
    "\n",
    "We see that we do a decent job of classifying normal transactions but we could do a little better at classifying normal transactions since we incorrectly mark almost a thousand of them as fraudulent when they were not. We can tweak our threshold values, drop features, etc. to try to get a better result or make changes at the raw TensorFlow level to fine-tune these results."
   ]
  },
  {
   "cell_type": "code",
   "execution_count": null,
   "metadata": {
    "collapsed": true
   },
   "outputs": [],
   "source": []
  }
 ],
 "metadata": {
  "kernelspec": {
   "display_name": "Python [conda env:model_env_1]",
   "language": "python",
   "name": "conda-env-model_env_1-py"
  },
  "language_info": {
   "codemirror_mode": {
    "name": "ipython",
    "version": 3
   },
   "file_extension": ".py",
   "mimetype": "text/x-python",
   "name": "python",
   "nbconvert_exporter": "python",
   "pygments_lexer": "ipython3",
   "version": "3.5.4"
  }
 },
 "nbformat": 4,
 "nbformat_minor": 2
}
